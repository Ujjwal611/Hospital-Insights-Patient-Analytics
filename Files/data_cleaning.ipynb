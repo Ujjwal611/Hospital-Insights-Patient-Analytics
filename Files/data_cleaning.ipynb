{
 "cells": [
  {
   "cell_type": "code",
   "execution_count": 37,
   "id": "8565e421",
   "metadata": {},
   "outputs": [],
   "source": [
    "#Importing necessary libraries\n",
    "import pandas as pd\n",
    "import matplotlib.pyplot as plt"
   ]
  },
  {
   "cell_type": "code",
   "execution_count": 38,
   "id": "d7e70992",
   "metadata": {},
   "outputs": [
    {
     "data": {
      "text/html": [
       "<div>\n",
       "<style scoped>\n",
       "    .dataframe tbody tr th:only-of-type {\n",
       "        vertical-align: middle;\n",
       "    }\n",
       "\n",
       "    .dataframe tbody tr th {\n",
       "        vertical-align: top;\n",
       "    }\n",
       "\n",
       "    .dataframe thead th {\n",
       "        text-align: right;\n",
       "    }\n",
       "</style>\n",
       "<table border=\"1\" class=\"dataframe\">\n",
       "  <thead>\n",
       "    <tr style=\"text-align: right;\">\n",
       "      <th></th>\n",
       "      <th>Provider ID</th>\n",
       "      <th>Hospital Name</th>\n",
       "      <th>Address</th>\n",
       "      <th>City</th>\n",
       "      <th>State</th>\n",
       "      <th>ZIP Code</th>\n",
       "      <th>County Name</th>\n",
       "      <th>Phone Number</th>\n",
       "      <th>Hospital Type</th>\n",
       "      <th>Hospital Ownership</th>\n",
       "      <th>...</th>\n",
       "      <th>Readmission national comparison footnote</th>\n",
       "      <th>Patient experience national comparison</th>\n",
       "      <th>Patient experience national comparison footnote</th>\n",
       "      <th>Effectiveness of care national comparison</th>\n",
       "      <th>Effectiveness of care national comparison footnote</th>\n",
       "      <th>Timeliness of care national comparison</th>\n",
       "      <th>Timeliness of care national comparison footnote</th>\n",
       "      <th>Efficient use of medical imaging national comparison</th>\n",
       "      <th>Efficient use of medical imaging national comparison footnote</th>\n",
       "      <th>Location</th>\n",
       "    </tr>\n",
       "  </thead>\n",
       "  <tbody>\n",
       "    <tr>\n",
       "      <th>0</th>\n",
       "      <td>10005</td>\n",
       "      <td>MARSHALL MEDICAL CENTER SOUTH</td>\n",
       "      <td>2505 U S HIGHWAY 431 NORTH</td>\n",
       "      <td>BOAZ</td>\n",
       "      <td>AL</td>\n",
       "      <td>35957</td>\n",
       "      <td>MARSHALL</td>\n",
       "      <td>2565938310</td>\n",
       "      <td>Acute Care Hospitals</td>\n",
       "      <td>Government - Hospital District or Authority</td>\n",
       "      <td>...</td>\n",
       "      <td>NaN</td>\n",
       "      <td>Same as the national average</td>\n",
       "      <td>NaN</td>\n",
       "      <td>Same as the national average</td>\n",
       "      <td>NaN</td>\n",
       "      <td>Above the national average</td>\n",
       "      <td>NaN</td>\n",
       "      <td>Below the national average</td>\n",
       "      <td>NaN</td>\n",
       "      <td>2505 U S HIGHWAY 431 NORTH\\nBOAZ, AL\\n</td>\n",
       "    </tr>\n",
       "  </tbody>\n",
       "</table>\n",
       "<p>1 rows × 29 columns</p>\n",
       "</div>"
      ],
      "text/plain": [
       "   Provider ID                  Hospital Name                     Address  \\\n",
       "0        10005  MARSHALL MEDICAL CENTER SOUTH  2505 U S HIGHWAY 431 NORTH   \n",
       "\n",
       "   City State  ZIP Code County Name  Phone Number         Hospital Type  \\\n",
       "0  BOAZ    AL     35957    MARSHALL    2565938310  Acute Care Hospitals   \n",
       "\n",
       "                            Hospital Ownership  ...  \\\n",
       "0  Government - Hospital District or Authority  ...   \n",
       "\n",
       "   Readmission national comparison footnote  \\\n",
       "0                                       NaN   \n",
       "\n",
       "  Patient experience national comparison  \\\n",
       "0           Same as the national average   \n",
       "\n",
       "  Patient experience national comparison footnote  \\\n",
       "0                                             NaN   \n",
       "\n",
       "  Effectiveness of care national comparison  \\\n",
       "0              Same as the national average   \n",
       "\n",
       "  Effectiveness of care national comparison footnote  \\\n",
       "0                                                NaN   \n",
       "\n",
       "  Timeliness of care national comparison  \\\n",
       "0             Above the national average   \n",
       "\n",
       "  Timeliness of care national comparison footnote  \\\n",
       "0                                             NaN   \n",
       "\n",
       "  Efficient use of medical imaging national comparison  \\\n",
       "0                         Below the national average     \n",
       "\n",
       "  Efficient use of medical imaging national comparison footnote  \\\n",
       "0                                                NaN              \n",
       "\n",
       "                                 Location  \n",
       "0  2505 U S HIGHWAY 431 NORTH\\nBOAZ, AL\\n  \n",
       "\n",
       "[1 rows x 29 columns]"
      ]
     },
     "execution_count": 38,
     "metadata": {},
     "output_type": "execute_result"
    }
   ],
   "source": [
    "#Loading the dataset\n",
    "data = pd.read_csv('HospInfo.csv')\n",
    "data.head(1)"
   ]
  },
  {
   "cell_type": "code",
   "execution_count": 39,
   "id": "9e0f7cbf",
   "metadata": {},
   "outputs": [
    {
     "name": "stdout",
     "output_type": "stream",
     "text": [
      "<class 'pandas.core.frame.DataFrame'>\n",
      "RangeIndex: 4812 entries, 0 to 4811\n",
      "Data columns (total 29 columns):\n",
      " #   Column                                                         Non-Null Count  Dtype \n",
      "---  ------                                                         --------------  ----- \n",
      " 0   Provider ID                                                    4812 non-null   int64 \n",
      " 1   Hospital Name                                                  4812 non-null   object\n",
      " 2   Address                                                        4812 non-null   object\n",
      " 3   City                                                           4812 non-null   object\n",
      " 4   State                                                          4812 non-null   object\n",
      " 5   ZIP Code                                                       4812 non-null   int64 \n",
      " 6   County Name                                                    4797 non-null   object\n",
      " 7   Phone Number                                                   4812 non-null   int64 \n",
      " 8   Hospital Type                                                  4812 non-null   object\n",
      " 9   Hospital Ownership                                             4812 non-null   object\n",
      " 10  Emergency Services                                             4812 non-null   bool  \n",
      " 11  Meets criteria for meaningful use of EHRs                      4668 non-null   object\n",
      " 12  Hospital overall rating                                        4812 non-null   object\n",
      " 13  Hospital overall rating footnote                               1398 non-null   object\n",
      " 14  Mortality national comparison                                  4812 non-null   object\n",
      " 15  Mortality national comparison footnote                         1352 non-null   object\n",
      " 16  Safety of care national comparison                             4812 non-null   object\n",
      " 17  Safety of care national comparison footnote                    2168 non-null   object\n",
      " 18  Readmission national comparison                                4812 non-null   object\n",
      " 19  Readmission national comparison footnote                       1017 non-null   object\n",
      " 20  Patient experience national comparison                         4812 non-null   object\n",
      " 21  Patient experience national comparison footnote                1369 non-null   object\n",
      " 22  Effectiveness of care national comparison                      4812 non-null   object\n",
      " 23  Effectiveness of care national comparison footnote             1202 non-null   object\n",
      " 24  Timeliness of care national comparison                         4812 non-null   object\n",
      " 25  Timeliness of care national comparison footnote                1266 non-null   object\n",
      " 26  Efficient use of medical imaging national comparison           4812 non-null   object\n",
      " 27  Efficient use of medical imaging national comparison footnote  2033 non-null   object\n",
      " 28  Location                                                       4812 non-null   object\n",
      "dtypes: bool(1), int64(3), object(25)\n",
      "memory usage: 1.0+ MB\n"
     ]
    }
   ],
   "source": [
    "#Checkimg for data info\n",
    "data.info()"
   ]
  },
  {
   "cell_type": "code",
   "execution_count": 40,
   "id": "48b07fc2",
   "metadata": {},
   "outputs": [
    {
     "name": "stdout",
     "output_type": "stream",
     "text": [
      "-------- Checking for missing values present in the data --------\n"
     ]
    },
    {
     "data": {
      "text/plain": [
       "Provider ID  Hospital Name  Address  City   State  ZIP Code  County Name  Phone Number  Hospital Type  Hospital Ownership  Emergency Services  Meets criteria for meaningful use of EHRs  Hospital overall rating  Hospital overall rating footnote  Mortality national comparison  Mortality national comparison footnote  Safety of care national comparison  Safety of care national comparison footnote  Readmission national comparison  Readmission national comparison footnote  Patient experience national comparison  Patient experience national comparison footnote  Effectiveness of care national comparison  Effectiveness of care national comparison footnote  Timeliness of care national comparison  Timeliness of care national comparison footnote  Efficient use of medical imaging national comparison  Efficient use of medical imaging national comparison footnote  Location\n",
       "False        False          False    False  False  False     False        False         False          False               False               False                                      False                    True                              False                          True                                    False                               True                                         False                            True                                      False                                   True                                             False                                      True                                                False                                   True                                             False                                                 True                                                           False       2297\n",
       "                                                                                                                                                                                                                   False                             False                          False                                   False                               False                                        False                            False                                     False                                   False                                            False                                      False                                               False                                   False                                            False                                                 False                                                          False        505\n",
       "                                                                                                                                                                                                                   True                              False                          True                                    False                               False                                        False                            True                                      False                                   True                                             False                                      True                                                False                                   True                                             False                                                 True                                                           False        243\n",
       "                                                                                                                                                                                                                                                                                                                                                                True                                         False                            True                                      False                                   True                                             False                                      True                                                False                                   True                                             False                                                 False                                                          False        212\n",
       "                                                                                                                                                                                                                                                                                                                                                                False                                        False                            True                                      False                                   True                                             False                                      True                                                False                                   True                                             False                                                 False                                                          False        172\n",
       "                                                                                                                                                                                                                                                                                                                                                                                                                                                                                                                                                                                                                                                                                                                                                                                                                                                                                                          ... \n",
       "                                                             True         False         False          False               False               False                                      False                    False                             False                          True                                    False                               True                                         False                            True                                      False                                   True                                             False                                      False                                               False                                   False                                            False                                                 False                                                          False          1\n",
       "                                                                                                                                                                                                                   True                              False                          True                                    False                               False                                        False                            True                                      False                                   False                                            False                                      True                                                False                                   False                                            False                                                 False                                                          False          1\n",
       "                                                                                                                                                                                                                                                                                                                                                                True                                         False                            True                                      False                                   True                                             False                                      True                                                False                                   False                                            False                                                 True                                                           False          1\n",
       "                                                                                                                                                                                                                                                                                                                                                                                                                                                                                                                                                                                                                                                                                                                        True                                             False                                                 True                                                           False          1\n",
       "                                                                                                                                               True                                       False                    False                             False                          False                                   False                               False                                        False                            False                                     False                                   False                                            False                                      False                                               False                                   False                                            False                                                 False                                                          False          1\n",
       "Name: count, Length: 113, dtype: int64"
      ]
     },
     "metadata": {},
     "output_type": "display_data"
    },
    {
     "name": "stdout",
     "output_type": "stream",
     "text": [
      "-------- Checking for duplicates --------\n"
     ]
    },
    {
     "data": {
      "text/plain": [
       "False    4812\n",
       "Name: count, dtype: int64"
      ]
     },
     "metadata": {},
     "output_type": "display_data"
    }
   ],
   "source": [
    "#Checking for missing values present in the data\n",
    "print('-'*8, 'Checking for missing values present in the data','-'*8)\n",
    "display(data.isnull().value_counts())\n",
    "\n",
    "#Checking for duplicates\n",
    "print('-'*8, 'Checking for duplicates', '-'*8)\n",
    "display(data.duplicated().value_counts())"
   ]
  },
  {
   "cell_type": "code",
   "execution_count": 41,
   "id": "dd69b182",
   "metadata": {},
   "outputs": [],
   "source": [
    "#There are 4812 rows and 29 columns in the dataset.\n",
    "#There are many missing values present in the columns County Name, Meets criteria for meaningful use of EHRs and every type of footnote.\n",
    "#There are no duplicate values in the data."
   ]
  },
  {
   "cell_type": "code",
   "execution_count": 42,
   "id": "30548c6d",
   "metadata": {},
   "outputs": [
    {
     "name": "stdout",
     "output_type": "stream",
     "text": [
      "The percentage of data where city and county name are same = 11.554447215295095\n"
     ]
    }
   ],
   "source": [
    "print(f'The percentage of data where city and county name are same = {len(data[data['City'] == data['County Name']])/len(data)*100}')\n",
    "\n",
    "#Replacing the City with County Name\n",
    "data[data['City'] == data['County Name']]\n",
    "data['County Name'] = data['County Name'].fillna(data['City'])\n",
    "\n",
    "#Renaming the County Name column to Country Name\n",
    "data.rename(columns={'County Name' : 'Country Name'}, inplace=True)"
   ]
  },
  {
   "cell_type": "code",
   "execution_count": 43,
   "id": "badc332b",
   "metadata": {},
   "outputs": [
    {
     "data": {
      "text/plain": [
       "17     NaN\n",
       "21     NaN\n",
       "32     NaN\n",
       "147    NaN\n",
       "186    NaN\n",
       "Name: Meets criteria for meaningful use of EHRs, dtype: object"
      ]
     },
     "metadata": {},
     "output_type": "display_data"
    },
    {
     "name": "stdout",
     "output_type": "stream",
     "text": [
      "The number of missing values in the Meets criteria for meaningful use of EHRs column = 144\n"
     ]
    }
   ],
   "source": [
    "#Checking the missing values in the 'Meets criteria for meaningful use of EHRs' Column\n",
    "display(data[data['Meets criteria for meaningful use of EHRs'].isnull().values == True]['Meets criteria for meaningful use of EHRs'].head(5))\n",
    "print(f'The number of missing values in the Meets criteria for meaningful use of EHRs column = {len(data[data['Meets criteria for meaningful use of EHRs'].isnull().values == True]['Meets criteria for meaningful use of EHRs'])}')"
   ]
  },
  {
   "cell_type": "code",
   "execution_count": 44,
   "id": "27769128",
   "metadata": {},
   "outputs": [
    {
     "data": {
      "text/plain": [
       "Meets criteria for meaningful use of EHRs\n",
       "False    4668\n",
       "True      144\n",
       "Name: count, dtype: int64"
      ]
     },
     "metadata": {},
     "output_type": "display_data"
    },
    {
     "data": {
      "text/plain": [
       "Meets criteria for meaningful use of EHRs\n",
       "True    4668\n",
       "Name: count, dtype: int64"
      ]
     },
     "metadata": {},
     "output_type": "display_data"
    }
   ],
   "source": [
    "display(data['Meets criteria for meaningful use of EHRs'].isnull().value_counts())\n",
    "display(data['Meets criteria for meaningful use of EHRs'].value_counts())"
   ]
  },
  {
   "cell_type": "code",
   "execution_count": 45,
   "id": "334cbab7",
   "metadata": {},
   "outputs": [
    {
     "data": {
      "image/png": "[encoded data removed]",
      "text/plain": [
       "<Figure size 640x480 with 1 Axes>"
      ]
     },
     "metadata": {},
     "output_type": "display_data"
    }
   ],
   "source": [
    "#In the 'Meets criteria for meaningful use of EHRs' column there are only one value present that is 'True' then the rest of all missing values will fall under 'False' Criteria\n",
    "#Filling those missing values with 'False' in this column\n",
    "data['Meets criteria for meaningful use of EHRs'] = data['Meets criteria for meaningful use of EHRs'].fillna('False')\n",
    "data['Meets criteria for meaningful use of EHRs'].value_counts().plot(kind='bar')\n",
    "plt.show()"
   ]
  },
  {
   "cell_type": "code",
   "execution_count": 46,
   "id": "2f9c7807",
   "metadata": {},
   "outputs": [
    {
     "data": {
      "text/plain": [
       "3       There are too few measures or measure groups r...\n",
       "5       There are too few measures or measure groups r...\n",
       "6       This hospitals star rating only includes data...\n",
       "7       There are too few measures or measure groups r...\n",
       "8       There are too few measures or measure groups r...\n",
       "                              ...                        \n",
       "4790    There are too few measures or measure groups r...\n",
       "4794    This hospitals star rating only includes data...\n",
       "4799    There are too few measures or measure groups r...\n",
       "4803    Results are not available for this reporting p...\n",
       "4808    There are too few measures or measure groups r...\n",
       "Name: Hospital overall rating footnote, Length: 1398, dtype: object"
      ]
     },
     "metadata": {},
     "output_type": "display_data"
    }
   ],
   "source": [
    "display(data[data['Hospital overall rating footnote'].isnull().values == False]['Hospital overall rating footnote'])"
   ]
  },
  {
   "cell_type": "code",
   "execution_count": 47,
   "id": "6b7d3e51",
   "metadata": {},
   "outputs": [],
   "source": [
    "#Dropping the every type of footnote, ZIP Code and Location column\n",
    "data.drop('Hospital overall rating footnote', axis=1, inplace=True)\n",
    "data.drop('Mortality national comparison footnote', axis=1, inplace=True)\n",
    "data.drop('Safety of care national comparison footnote', axis=1, inplace=True)\n",
    "data.drop('Readmission national comparison footnote', axis=1, inplace=True)\n",
    "data.drop('Patient experience national comparison footnote', axis=1, inplace=True)\n",
    "data.drop('Effectiveness of care national comparison footnote', axis=1, inplace=True)\n",
    "data.drop('Timeliness of care national comparison footnote', axis=1, inplace=True)\n",
    "data.drop('Efficient use of medical imaging national comparison footnote', axis=1, inplace=True)\n",
    "data.drop('ZIP Code', axis=1, inplace=True)\n",
    "data.drop('Location', axis=1, inplace=True)"
   ]
  },
  {
   "cell_type": "code",
   "execution_count": 48,
   "id": "fc73c14c",
   "metadata": {},
   "outputs": [],
   "source": [
    "#Exporting the cleaned file to csv file for further analysis\n",
    "data.to_csv('hospital_cleaned_data.csv', index=False)"
   ]
  }
 ],
 "metadata": {
  "kernelspec": {
   "display_name": "Python 3",
   "language": "python",
   "name": "python3"
  },
  "language_info": {
   "codemirror_mode": {
    "name": "ipython",
    "version": 3
   },
   "file_extension": ".py",
   "mimetype": "text/x-python",
   "name": "python",
   "nbconvert_exporter": "python",
   "pygments_lexer": "ipython3",
   "version": "3.13.2"
  }
 },
 "nbformat": 4,
 "nbformat_minor": 5
}
